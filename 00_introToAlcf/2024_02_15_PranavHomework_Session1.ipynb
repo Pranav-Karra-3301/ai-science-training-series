{
  "nbformat": 4,
  "nbformat_minor": 0,
  "metadata": {
    "colab": {
      "provenance": []
    },
    "kernelspec": {
      "name": "python3",
      "display_name": "Python 3"
    },
    "language_info": {
      "name": "python"
    }
  },
  "cells": [
    {
      "cell_type": "markdown",
      "source": [
        "#Here is my first Homework"
      ],
      "metadata": {
        "id": "bChmc1HpjQ3n"
      }
    },
    {
      "cell_type": "code",
      "execution_count": 1,
      "metadata": {
        "colab": {
          "base_uri": "https://localhost:8080/"
        },
        "id": "O-HfUYxiiwNi",
        "outputId": "1ef1524e-f38d-47c5-f575-b3877fc4f72e"
      },
      "outputs": [
        {
          "output_type": "stream",
          "name": "stdout",
          "text": [
            "testing...\n"
          ]
        }
      ],
      "source": [
        "import os\n",
        "\n",
        "print(\"testing...\")"
      ]
    }
  ]
}